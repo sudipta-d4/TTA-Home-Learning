{
 "cells": [
  {
   "cell_type": "markdown",
   "id": "e57f2d74",
   "metadata": {},
   "source": [
    "# <h1><center>Week 5 - Pandas - Home Learning Task</center></h1>"
   ]
  },
  {
   "cell_type": "markdown",
   "id": "25655d1c",
   "metadata": {},
   "source": [
    "# <div style=\"text-align: left\"> Task 1 </div>"
   ]
  },
  {
   "cell_type": "raw",
   "id": "dc2c5df2",
   "metadata": {},
   "source": [
    "# 1. Add in a column of destination\n",
    "# 2. Add in a column that shows feedback score out of 10 for that destination\n",
    "# 3. Add in a column for average hotel star rating for those destinations\n",
    "# 4. Add in a column for number of all-inclusive hotels within each destination\n",
    "# 5. Add in the most visited city in each destination"
   ]
  },
  {
   "cell_type": "code",
   "execution_count": 1,
   "id": "111a43d7",
   "metadata": {},
   "outputs": [],
   "source": [
    "# import pandas\n",
    "import pandas as pd"
   ]
  },
  {
   "cell_type": "code",
   "execution_count": 2,
   "id": "142317a3",
   "metadata": {},
   "outputs": [
    {
     "name": "stdout",
     "output_type": "stream",
     "text": [
      "   holiday_destination  feedback_score  hotel_star_rating  \\\n",
      "0                  UAE              10                  5   \n",
      "1                  USA               7                  4   \n",
      "2                   UK               6                  4   \n",
      "3                Japan               9                  5   \n",
      "4                India               8                  4   \n",
      "5             Thailand               7                  3   \n",
      "6            Indonesia               5                  2   \n",
      "7               Brazil               8                  3   \n",
      "8               Canada               5                  4   \n",
      "9              Croatia               5                  3   \n",
      "10              Greece              10                  5   \n",
      "11              Turkey               7                  2   \n",
      "12               Italy               9                  3   \n",
      "13           Australia               6                  4   \n",
      "14         Netherlands               7                  3   \n",
      "\n",
      "    all_inclusive_hotel most_visited_city  \n",
      "0                    20             Dubai  \n",
      "1                    15         Las Vegas  \n",
      "2                     9            London  \n",
      "3                    16             Tokyo  \n",
      "4                    21               Goa  \n",
      "5                    12            Phuket  \n",
      "6                     7              Bali  \n",
      "7                    25    Rio de Janeiro  \n",
      "8                    18         Vancouver  \n",
      "9                     8         Dubrovnik  \n",
      "10                   19         Santorini  \n",
      "11                   15           Antalya  \n",
      "12                   17              Rome  \n",
      "13                   10            Sydney  \n",
      "14                    6         Amsterdam  \n"
     ]
    }
   ],
   "source": [
    "destination = pd.read_csv (r'C:\\Users\\sudip\\Holiday Destinations.csv')\n",
    "print (destination)"
   ]
  },
  {
   "cell_type": "raw",
   "id": "e897b658",
   "metadata": {},
   "source": [
    "# 1. How many rows and columns are there in your file?"
   ]
  },
  {
   "cell_type": "code",
   "execution_count": 3,
   "id": "2d43d7d1",
   "metadata": {},
   "outputs": [
    {
     "data": {
      "text/plain": [
       "(15, 5)"
      ]
     },
     "execution_count": 3,
     "metadata": {},
     "output_type": "execute_result"
    }
   ],
   "source": [
    "destination.shape"
   ]
  },
  {
   "cell_type": "raw",
   "id": "8acee22a",
   "metadata": {},
   "source": [
    "# 2. Print row 3-8 ( using iloc/loc)"
   ]
  },
  {
   "cell_type": "code",
   "execution_count": 4,
   "id": "46253fad",
   "metadata": {},
   "outputs": [
    {
     "data": {
      "text/html": [
       "<div>\n",
       "<style scoped>\n",
       "    .dataframe tbody tr th:only-of-type {\n",
       "        vertical-align: middle;\n",
       "    }\n",
       "\n",
       "    .dataframe tbody tr th {\n",
       "        vertical-align: top;\n",
       "    }\n",
       "\n",
       "    .dataframe thead th {\n",
       "        text-align: right;\n",
       "    }\n",
       "</style>\n",
       "<table border=\"1\" class=\"dataframe\">\n",
       "  <thead>\n",
       "    <tr style=\"text-align: right;\">\n",
       "      <th></th>\n",
       "      <th>holiday_destination</th>\n",
       "      <th>feedback_score</th>\n",
       "      <th>hotel_star_rating</th>\n",
       "      <th>all_inclusive_hotel</th>\n",
       "      <th>most_visited_city</th>\n",
       "    </tr>\n",
       "  </thead>\n",
       "  <tbody>\n",
       "    <tr>\n",
       "      <th>3</th>\n",
       "      <td>Japan</td>\n",
       "      <td>9</td>\n",
       "      <td>5</td>\n",
       "      <td>16</td>\n",
       "      <td>Tokyo</td>\n",
       "    </tr>\n",
       "    <tr>\n",
       "      <th>4</th>\n",
       "      <td>India</td>\n",
       "      <td>8</td>\n",
       "      <td>4</td>\n",
       "      <td>21</td>\n",
       "      <td>Goa</td>\n",
       "    </tr>\n",
       "    <tr>\n",
       "      <th>5</th>\n",
       "      <td>Thailand</td>\n",
       "      <td>7</td>\n",
       "      <td>3</td>\n",
       "      <td>12</td>\n",
       "      <td>Phuket</td>\n",
       "    </tr>\n",
       "    <tr>\n",
       "      <th>6</th>\n",
       "      <td>Indonesia</td>\n",
       "      <td>5</td>\n",
       "      <td>2</td>\n",
       "      <td>7</td>\n",
       "      <td>Bali</td>\n",
       "    </tr>\n",
       "    <tr>\n",
       "      <th>7</th>\n",
       "      <td>Brazil</td>\n",
       "      <td>8</td>\n",
       "      <td>3</td>\n",
       "      <td>25</td>\n",
       "      <td>Rio de Janeiro</td>\n",
       "    </tr>\n",
       "  </tbody>\n",
       "</table>\n",
       "</div>"
      ],
      "text/plain": [
       "  holiday_destination  feedback_score  hotel_star_rating  all_inclusive_hotel  \\\n",
       "3               Japan               9                  5                   16   \n",
       "4               India               8                  4                   21   \n",
       "5            Thailand               7                  3                   12   \n",
       "6           Indonesia               5                  2                    7   \n",
       "7              Brazil               8                  3                   25   \n",
       "\n",
       "  most_visited_city  \n",
       "3             Tokyo  \n",
       "4               Goa  \n",
       "5            Phuket  \n",
       "6              Bali  \n",
       "7    Rio de Janeiro  "
      ]
     },
     "execution_count": 4,
     "metadata": {},
     "output_type": "execute_result"
    }
   ],
   "source": [
    "destination.iloc[3:8]"
   ]
  },
  {
   "cell_type": "code",
   "execution_count": 5,
   "id": "f4dc214a",
   "metadata": {},
   "outputs": [
    {
     "data": {
      "text/html": [
       "<div>\n",
       "<style scoped>\n",
       "    .dataframe tbody tr th:only-of-type {\n",
       "        vertical-align: middle;\n",
       "    }\n",
       "\n",
       "    .dataframe tbody tr th {\n",
       "        vertical-align: top;\n",
       "    }\n",
       "\n",
       "    .dataframe thead th {\n",
       "        text-align: right;\n",
       "    }\n",
       "</style>\n",
       "<table border=\"1\" class=\"dataframe\">\n",
       "  <thead>\n",
       "    <tr style=\"text-align: right;\">\n",
       "      <th></th>\n",
       "      <th>holiday_destination</th>\n",
       "      <th>feedback_score</th>\n",
       "      <th>hotel_star_rating</th>\n",
       "      <th>all_inclusive_hotel</th>\n",
       "      <th>most_visited_city</th>\n",
       "    </tr>\n",
       "  </thead>\n",
       "  <tbody>\n",
       "    <tr>\n",
       "      <th>3</th>\n",
       "      <td>Japan</td>\n",
       "      <td>9</td>\n",
       "      <td>5</td>\n",
       "      <td>16</td>\n",
       "      <td>Tokyo</td>\n",
       "    </tr>\n",
       "    <tr>\n",
       "      <th>4</th>\n",
       "      <td>India</td>\n",
       "      <td>8</td>\n",
       "      <td>4</td>\n",
       "      <td>21</td>\n",
       "      <td>Goa</td>\n",
       "    </tr>\n",
       "    <tr>\n",
       "      <th>5</th>\n",
       "      <td>Thailand</td>\n",
       "      <td>7</td>\n",
       "      <td>3</td>\n",
       "      <td>12</td>\n",
       "      <td>Phuket</td>\n",
       "    </tr>\n",
       "    <tr>\n",
       "      <th>6</th>\n",
       "      <td>Indonesia</td>\n",
       "      <td>5</td>\n",
       "      <td>2</td>\n",
       "      <td>7</td>\n",
       "      <td>Bali</td>\n",
       "    </tr>\n",
       "    <tr>\n",
       "      <th>7</th>\n",
       "      <td>Brazil</td>\n",
       "      <td>8</td>\n",
       "      <td>3</td>\n",
       "      <td>25</td>\n",
       "      <td>Rio de Janeiro</td>\n",
       "    </tr>\n",
       "    <tr>\n",
       "      <th>8</th>\n",
       "      <td>Canada</td>\n",
       "      <td>5</td>\n",
       "      <td>4</td>\n",
       "      <td>18</td>\n",
       "      <td>Vancouver</td>\n",
       "    </tr>\n",
       "  </tbody>\n",
       "</table>\n",
       "</div>"
      ],
      "text/plain": [
       "  holiday_destination  feedback_score  hotel_star_rating  all_inclusive_hotel  \\\n",
       "3               Japan               9                  5                   16   \n",
       "4               India               8                  4                   21   \n",
       "5            Thailand               7                  3                   12   \n",
       "6           Indonesia               5                  2                    7   \n",
       "7              Brazil               8                  3                   25   \n",
       "8              Canada               5                  4                   18   \n",
       "\n",
       "  most_visited_city  \n",
       "3             Tokyo  \n",
       "4               Goa  \n",
       "5            Phuket  \n",
       "6              Bali  \n",
       "7    Rio de Janeiro  \n",
       "8         Vancouver  "
      ]
     },
     "execution_count": 5,
     "metadata": {},
     "output_type": "execute_result"
    }
   ],
   "source": [
    "destination.loc[3:8]"
   ]
  },
  {
   "cell_type": "raw",
   "id": "0b4f9f74",
   "metadata": {},
   "source": [
    "# 3. Find the mean number of all-inclusive hotels across all destinations."
   ]
  },
  {
   "cell_type": "code",
   "execution_count": 6,
   "id": "a0549c05",
   "metadata": {},
   "outputs": [
    {
     "data": {
      "text/plain": [
       "14.533333333333333"
      ]
     },
     "execution_count": 6,
     "metadata": {},
     "output_type": "execute_result"
    }
   ],
   "source": [
    "destination['all_inclusive_hotel'].mean()"
   ]
  },
  {
   "cell_type": "raw",
   "id": "e8b6066c",
   "metadata": {},
   "source": [
    "# 4. Find the lowest scoring destination."
   ]
  },
  {
   "cell_type": "code",
   "execution_count": 7,
   "id": "9f106c6d",
   "metadata": {},
   "outputs": [
    {
     "data": {
      "text/plain": [
       "6"
      ]
     },
     "execution_count": 7,
     "metadata": {},
     "output_type": "execute_result"
    }
   ],
   "source": [
    "destination['all_inclusive_hotel'].min()"
   ]
  },
  {
   "cell_type": "raw",
   "id": "b76b1861",
   "metadata": {},
   "source": [
    "# 5. Find the highest scoring destination."
   ]
  },
  {
   "cell_type": "code",
   "execution_count": 8,
   "id": "58fb7412",
   "metadata": {},
   "outputs": [
    {
     "data": {
      "text/plain": [
       "25"
      ]
     },
     "execution_count": 8,
     "metadata": {},
     "output_type": "execute_result"
    }
   ],
   "source": [
    "destination['all_inclusive_hotel'].max()"
   ]
  },
  {
   "cell_type": "raw",
   "id": "109494c3",
   "metadata": {},
   "source": [
    "# 6. Find all the destinations where there are more than 9 all-inclusive hotels."
   ]
  },
  {
   "cell_type": "code",
   "execution_count": 9,
   "id": "28021657",
   "metadata": {},
   "outputs": [
    {
     "data": {
      "text/plain": [
       "0      True\n",
       "1      True\n",
       "2     False\n",
       "3      True\n",
       "4      True\n",
       "5      True\n",
       "6     False\n",
       "7      True\n",
       "8      True\n",
       "9     False\n",
       "10     True\n",
       "11     True\n",
       "12     True\n",
       "13     True\n",
       "14    False\n",
       "Name: all_inclusive_hotel, dtype: bool"
      ]
     },
     "execution_count": 9,
     "metadata": {},
     "output_type": "execute_result"
    }
   ],
   "source": [
    "destination[\"all_inclusive_hotel\"]>9"
   ]
  },
  {
   "cell_type": "raw",
   "id": "737000e9",
   "metadata": {},
   "source": [
    "# 7. Filter the data by score above 8. "
   ]
  },
  {
   "cell_type": "code",
   "execution_count": 10,
   "id": "0e6168ad",
   "metadata": {},
   "outputs": [
    {
     "data": {
      "text/plain": [
       "0      True\n",
       "1      True\n",
       "2      True\n",
       "3      True\n",
       "4      True\n",
       "5      True\n",
       "6     False\n",
       "7      True\n",
       "8      True\n",
       "9     False\n",
       "10     True\n",
       "11     True\n",
       "12     True\n",
       "13     True\n",
       "14    False\n",
       "Name: all_inclusive_hotel, dtype: bool"
      ]
     },
     "execution_count": 10,
     "metadata": {},
     "output_type": "execute_result"
    }
   ],
   "source": [
    "destination[\"all_inclusive_hotel\"]>8"
   ]
  },
  {
   "cell_type": "raw",
   "id": "be92c00b",
   "metadata": {},
   "source": [
    "# 8. Filter the data score below 2 ( I need to know if these destinations should be removed or there is a problem)."
   ]
  },
  {
   "cell_type": "code",
   "execution_count": 11,
   "id": "7d3fccf8",
   "metadata": {},
   "outputs": [
    {
     "data": {
      "text/plain": [
       "0     False\n",
       "1     False\n",
       "2     False\n",
       "3     False\n",
       "4     False\n",
       "5     False\n",
       "6     False\n",
       "7     False\n",
       "8     False\n",
       "9     False\n",
       "10    False\n",
       "11    False\n",
       "12    False\n",
       "13    False\n",
       "14    False\n",
       "Name: all_inclusive_hotel, dtype: bool"
      ]
     },
     "execution_count": 11,
     "metadata": {},
     "output_type": "execute_result"
    }
   ],
   "source": [
    "destination[\"all_inclusive_hotel\"]<2"
   ]
  },
  {
   "cell_type": "markdown",
   "id": "dfdbf857",
   "metadata": {},
   "source": [
    "# <div style=\"text-align: left\"> Extension Task </div>"
   ]
  },
  {
   "cell_type": "raw",
   "id": "573d556d",
   "metadata": {},
   "source": [
    "# 1. Is there a correlation between number of all inclusive hotels and score? "
   ]
  },
  {
   "cell_type": "code",
   "execution_count": 12,
   "id": "37360591",
   "metadata": {},
   "outputs": [],
   "source": [
    "import matplotlib.pyplot as plt"
   ]
  },
  {
   "cell_type": "code",
   "execution_count": 13,
   "id": "a58bcae5",
   "metadata": {},
   "outputs": [
    {
     "data": {
      "text/plain": [
       "<AxesSubplot:xlabel='all_inclusive_hotel'>"
      ]
     },
     "execution_count": 13,
     "metadata": {},
     "output_type": "execute_result"
    },
    {
     "data": {
      "image/png": "[encoded data removed]",
      "text/plain": [
       "<Figure size 432x288 with 1 Axes>"
      ]
     },
     "metadata": {
      "needs_background": "light"
     },
     "output_type": "display_data"
    },
    {
     "data": {
      "image/png": "[encoded data removed]",
      "text/plain": [
       "<Figure size 432x288 with 1 Axes>"
      ]
     },
     "metadata": {
      "needs_background": "light"
     },
     "output_type": "display_data"
    }
   ],
   "source": [
    "destination.plot.scatter(x=\"all_inclusive_hotel\", y=\"feedback_score\")\n",
    "destination.plot.bar(x=\"all_inclusive_hotel\", y=\"feedback_score\")"
   ]
  },
  {
   "cell_type": "raw",
   "id": "e7ec0dd4",
   "metadata": {},
   "source": [
    "# 2. Create a data visualisation diagram to show destination and highest scores?"
   ]
  },
  {
   "cell_type": "code",
   "execution_count": 14,
   "id": "bc622aba",
   "metadata": {},
   "outputs": [
    {
     "data": {
      "text/plain": [
       "<AxesSubplot:xlabel='holiday_destination'>"
      ]
     },
     "execution_count": 14,
     "metadata": {},
     "output_type": "execute_result"
    },
    {
     "data": {
      "image/png": "[encoded data removed]",
      "text/plain": [
       "<Figure size 432x288 with 1 Axes>"
      ]
     },
     "metadata": {
      "needs_background": "light"
     },
     "output_type": "display_data"
    }
   ],
   "source": [
    "destination.plot.bar(x=\"holiday_destination\", y=\"feedback_score\")"
   ]
  }
 ],
 "metadata": {
  "kernelspec": {
   "display_name": "Python 3 (ipykernel)",
   "language": "python",
   "name": "python3"
  },
  "language_info": {
   "codemirror_mode": {
    "name": "ipython",
    "version": 3
   },
   "file_extension": ".py",
   "mimetype": "text/x-python",
   "name": "python",
   "nbconvert_exporter": "python",
   "pygments_lexer": "ipython3",
   "version": "3.9.7"
  }
 },
 "nbformat": 4,
 "nbformat_minor": 5
}
