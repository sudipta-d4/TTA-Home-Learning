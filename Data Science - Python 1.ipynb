{
 "cells": [
  {
   "cell_type": "markdown",
   "id": "35cf7aaf",
   "metadata": {},
   "source": [
    "# <h1><center>Data Science - Python 1</center></h1>"
   ]
  },
  {
   "cell_type": "markdown",
   "id": "3642ae42",
   "metadata": {},
   "source": [
    "# <div style=\"text-align: left\"> Task 1 </div>"
   ]
  },
  {
   "cell_type": "raw",
   "id": "f8351990",
   "metadata": {},
   "source": [
    "# Write a program that does the following: \n",
    "\n",
    "# a) Stores a random number (1-10) in a variable – see hint below. \n",
    "\n",
    "# b) Asks a user for their name and stores this in a variable. \n",
    "\n",
    "# c) Asks a user to guess the number between 1 and 10. \n",
    "\n",
    "# d) Tells the user whether they have guessed correctly.\n",
    "\n",
    "# HINT!\n",
    "\n",
    "# You’ll need to import the random library using the following: import random \n",
    "\n",
    "# To generate a random number between 1 and 10, you need to use the following piece of code: random.randint(1, 10)"
   ]
  },
  {
   "cell_type": "code",
   "execution_count": 2,
   "id": "e2e71e22",
   "metadata": {},
   "outputs": [],
   "source": [
    "import random"
   ]
  },
  {
   "cell_type": "code",
   "execution_count": 3,
   "id": "4d150341",
   "metadata": {},
   "outputs": [],
   "source": [
    "number = random.randint(1, 10)"
   ]
  },
  {
   "cell_type": "code",
   "execution_count": null,
   "id": "25185cc3",
   "metadata": {},
   "outputs": [],
   "source": [
    "myName = input(\"Hello! What is your name?\")"
   ]
  },
  {
   "cell_type": "code",
   "execution_count": null,
   "id": "7c96114c",
   "metadata": {},
   "outputs": [],
   "source": [
    "print(\"Well, \" + myName + \"I am thinking of a number between 1 and 10.\")"
   ]
  },
  {
   "cell_type": "code",
   "execution_count": null,
   "id": "c561a01a",
   "metadata": {},
   "outputs": [],
   "source": [
    "guess = int(input(\"Take a guess:\") )"
   ]
  },
  {
   "cell_type": "code",
   "execution_count": null,
   "id": "83abbf33",
   "metadata": {},
   "outputs": [],
   "source": [
    "if user_num == number:"
   ]
  },
  {
   "cell_type": "code",
   "execution_count": null,
   "id": "4230993b",
   "metadata": {},
   "outputs": [],
   "source": [
    "    print(\"Well done\")"
   ]
  },
  {
   "cell_type": "code",
   "execution_count": null,
   "id": "25231c9b",
   "metadata": {},
   "outputs": [],
   "source": [
    "else:"
   ]
  },
  {
   "cell_type": "code",
   "execution_count": null,
   "id": "a88603a8",
   "metadata": {},
   "outputs": [],
   "source": [
    "    print(\"Sorry, try again\")"
   ]
  },
  {
   "cell_type": "markdown",
   "id": "7c78d516",
   "metadata": {},
   "source": [
    "# <div style=\"text-align: left\"> Task 2 </div>"
   ]
  },
  {
   "cell_type": "raw",
   "id": "6b06cc25",
   "metadata": {},
   "source": [
    "# Write a program that asks a user for their favourite number between 1 and 100 and then tells them a joke based on the number.\n",
    "\n",
    "# You should use a minimum of 3 jokes."
   ]
  },
  {
   "cell_type": "code",
   "execution_count": null,
   "id": "53b61288",
   "metadata": {},
   "outputs": [],
   "source": [
    "user_num = int(input(\"What is your favourite number? Choose one between 1 and 100\"))"
   ]
  },
  {
   "cell_type": "code",
   "execution_count": null,
   "id": "4f9f8803",
   "metadata": {},
   "outputs": [],
   "source": [
    "print(user_num)"
   ]
  },
  {
   "cell_type": "code",
   "execution_count": null,
   "id": "6b50b199",
   "metadata": {},
   "outputs": [],
   "source": [
    "if user_num == 4 :"
   ]
  },
  {
   "cell_type": "code",
   "execution_count": null,
   "id": "1e760bae",
   "metadata": {},
   "outputs": [],
   "source": [
    "    print(\"Why didn't the number 4 go skydiving? Because he's two-squared\")"
   ]
  },
  {
   "cell_type": "code",
   "execution_count": null,
   "id": "d7bfc9b9",
   "metadata": {},
   "outputs": [],
   "source": [
    "elif user_num > 4 :"
   ]
  },
  {
   "cell_type": "code",
   "execution_count": null,
   "id": "a00f138e",
   "metadata": {},
   "outputs": [],
   "source": [
    "    print(\"Why is your favourite number 4? Because I never met a four like you.\")"
   ]
  },
  {
   "cell_type": "code",
   "execution_count": null,
   "id": "590ef4cd",
   "metadata": {},
   "outputs": [],
   "source": [
    "elif user_num < 4 :"
   ]
  },
  {
   "cell_type": "code",
   "execution_count": null,
   "id": "fe60f9a5",
   "metadata": {},
   "outputs": [],
   "source": [
    "    print(\"Did you know a ballerina’s favourite number is four! Because there's two-two’s\")"
   ]
  },
  {
   "cell_type": "code",
   "execution_count": null,
   "id": "e08b521c",
   "metadata": {},
   "outputs": [],
   "source": [
    "else:"
   ]
  },
  {
   "cell_type": "code",
   "execution_count": null,
   "id": "3ede8b97",
   "metadata": {},
   "outputs": [],
   "source": [
    "   print(\"What is the solution to any equation? Multiply both sides by zero.\")"
   ]
  },
  {
   "cell_type": "markdown",
   "id": "d8fb81ce",
   "metadata": {},
   "source": [
    "# <div style=\"text-align: left\"> Task 3 </div>"
   ]
  },
  {
   "cell_type": "raw",
   "id": "d5aea900",
   "metadata": {},
   "source": [
    "# Write a program that allows user to enter their favourite starter, main course, dessert and drink. \n",
    "\n",
    "# Concatenate these and output a message which says – “Your favourite meal is ………with a glass of….”"
   ]
  },
  {
   "cell_type": "code",
   "execution_count": null,
   "id": "cd6991ca",
   "metadata": {},
   "outputs": [],
   "source": [
    "starter = input(\"What is your favourite starter?\")"
   ]
  },
  {
   "cell_type": "code",
   "execution_count": null,
   "id": "43ac8871",
   "metadata": {},
   "outputs": [],
   "source": [
    "main = input(\"What is your favourite main?\")"
   ]
  },
  {
   "cell_type": "code",
   "execution_count": null,
   "id": "1990aac8",
   "metadata": {},
   "outputs": [],
   "source": [
    "dessert = input(\"What is your favourite dessert?\")"
   ]
  },
  {
   "cell_type": "code",
   "execution_count": null,
   "id": "73ba2f3b",
   "metadata": {},
   "outputs": [],
   "source": [
    "drink = input(\"What is your favourite drink?\")"
   ]
  },
  {
   "cell_type": "code",
   "execution_count": null,
   "id": "a4a8a860",
   "metadata": {},
   "outputs": [],
   "source": [
    "print(\"Your favourite meal is {starter}, followed by {main}, for dessert {dessert} with a glass of {drink}\")"
   ]
  },
  {
   "cell_type": "markdown",
   "id": "f115cc16",
   "metadata": {},
   "source": [
    "# <div style=\"text-align: left\"> Task 4 </div>"
   ]
  },
  {
   "cell_type": "raw",
   "id": "6ca441b4",
   "metadata": {},
   "source": [
    "# A motorbike costs £2000 and loses 10% of its value every year. \n",
    "\n",
    "# Using a loop, print the value of the bike every following year until it falls below £1000."
   ]
  },
  {
   "cell_type": "code",
   "execution_count": null,
   "id": "92ab829d",
   "metadata": {},
   "outputs": [],
   "source": [
    "motorbike_cost = 2000.00"
   ]
  },
  {
   "cell_type": "code",
   "execution_count": null,
   "id": "f93dadda",
   "metadata": {},
   "outputs": [],
   "source": [
    "cost = motorbike_cost"
   ]
  },
  {
   "cell_type": "code",
   "execution_count": null,
   "id": "6763b37b",
   "metadata": {},
   "outputs": [],
   "source": [
    "year = int(input(\"what is the year?\"))"
   ]
  },
  {
   "cell_type": "code",
   "execution_count": null,
   "id": "e094a152",
   "metadata": {},
   "outputs": [],
   "source": [
    "print(\"yearly depreciation of motorbike value:\")"
   ]
  },
  {
   "cell_type": "code",
   "execution_count": null,
   "id": "db727dae",
   "metadata": {},
   "outputs": [],
   "source": [
    "while cost >= 1000.0:"
   ]
  },
  {
   "cell_type": "code",
   "execution_count": null,
   "id": "b0a0f317",
   "metadata": {},
   "outputs": [],
   "source": [
    "    print(\"year \", year, \": \", cost)"
   ]
  },
  {
   "cell_type": "code",
   "execution_count": null,
   "id": "c67e45d0",
   "metadata": {},
   "outputs": [],
   "source": [
    "year = year + 1"
   ]
  },
  {
   "cell_type": "code",
   "execution_count": null,
   "id": "3985f5c2",
   "metadata": {},
   "outputs": [],
   "source": [
    "cost = motorbike_cost / 10"
   ]
  },
  {
   "cell_type": "markdown",
   "id": "3b29d65e",
   "metadata": {},
   "source": [
    "# <div style=\"text-align: left\"> Task 5 </div>"
   ]
  },
  {
   "cell_type": "raw",
   "id": "6b8cc183",
   "metadata": {},
   "source": [
    "# Write a program which will ask for two numbers from a user. Then offer a menu to the user giving them a choice of operator: \n",
    "\n",
    "# e.g. – Enter “a” if you want to add \n",
    "\n",
    "# “b” if you want to subtract \n",
    "\n",
    "# Include +, -, /, *, ** square (to the power of). \n",
    "\n",
    "# Once the user has selected which operator they wish to use, perform the calculation."
   ]
  },
  {
   "cell_type": "code",
   "execution_count": null,
   "id": "a7be4b37",
   "metadata": {},
   "outputs": [],
   "source": [
    "num1 = int(input(\"What is your first number?\"))"
   ]
  },
  {
   "cell_type": "code",
   "execution_count": null,
   "id": "15fc3b66",
   "metadata": {},
   "outputs": [],
   "source": [
    "num2 = int(input(\"What is the second number?\"))"
   ]
  },
  {
   "cell_type": "code",
   "execution_count": null,
   "id": "1c6a746a",
   "metadata": {},
   "outputs": [],
   "source": [
    "print(num1 + num2)"
   ]
  },
  {
   "cell_type": "code",
   "execution_count": null,
   "id": "bbb42065",
   "metadata": {},
   "outputs": [],
   "source": [
    "choice = (input(\"Choose an operation to perform \\n A) add \\n B) substract \\n C) divide \\n D) multiply \\n E) to the power of\"))"
   ]
  },
  {
   "cell_type": "code",
   "execution_count": null,
   "id": "192c903b",
   "metadata": {},
   "outputs": [],
   "source": [
    "if choice == \"A\":"
   ]
  },
  {
   "cell_type": "code",
   "execution_count": null,
   "id": "00bb5a56",
   "metadata": {},
   "outputs": [],
   "source": [
    "    print(num1 + num2)"
   ]
  },
  {
   "cell_type": "code",
   "execution_count": null,
   "id": "a05ef2a2",
   "metadata": {},
   "outputs": [],
   "source": [
    "elif choice == \"B\":"
   ]
  },
  {
   "cell_type": "code",
   "execution_count": null,
   "id": "e6c8a84a",
   "metadata": {},
   "outputs": [],
   "source": [
    "    print(num1 - num2)"
   ]
  },
  {
   "cell_type": "code",
   "execution_count": null,
   "id": "fff8faf4",
   "metadata": {},
   "outputs": [],
   "source": [
    "elif choice == \"C\":"
   ]
  },
  {
   "cell_type": "code",
   "execution_count": null,
   "id": "4e87961f",
   "metadata": {},
   "outputs": [],
   "source": [
    "   print(num1 / num2)"
   ]
  },
  {
   "cell_type": "code",
   "execution_count": null,
   "id": "def81018",
   "metadata": {},
   "outputs": [],
   "source": [
    "elif choice == \"D\":"
   ]
  },
  {
   "cell_type": "code",
   "execution_count": null,
   "id": "c4c7630d",
   "metadata": {},
   "outputs": [],
   "source": [
    "    print(num1 * num2)"
   ]
  },
  {
   "cell_type": "code",
   "execution_count": null,
   "id": "b7831c0f",
   "metadata": {},
   "outputs": [],
   "source": [
    "elif choice == \"E\":"
   ]
  },
  {
   "cell_type": "code",
   "execution_count": null,
   "id": "57f49d63",
   "metadata": {},
   "outputs": [],
   "source": [
    "    print(num1 ** num2)"
   ]
  },
  {
   "cell_type": "code",
   "execution_count": null,
   "id": "e461bb15",
   "metadata": {},
   "outputs": [],
   "source": [
    "else:"
   ]
  },
  {
   "cell_type": "code",
   "execution_count": null,
   "id": "061d07a5",
   "metadata": {},
   "outputs": [],
   "source": [
    "    print(\"Enter choice A or B or C or D or E\")"
   ]
  }
 ],
 "metadata": {
  "kernelspec": {
   "display_name": "Python 3 (ipykernel)",
   "language": "python",
   "name": "python3"
  },
  "language_info": {
   "codemirror_mode": {
    "name": "ipython",
    "version": 3
   },
   "file_extension": ".py",
   "mimetype": "text/x-python",
   "name": "python",
   "nbconvert_exporter": "python",
   "pygments_lexer": "ipython3",
   "version": "3.9.7"
  }
 },
 "nbformat": 4,
 "nbformat_minor": 5
}
