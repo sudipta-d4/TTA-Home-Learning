{
 "cells": [
  {
   "cell_type": "markdown",
   "id": "028feb1b",
   "metadata": {},
   "source": [
    "# <h1><center>Data Science - NumPy</center></h1>"
   ]
  },
  {
   "cell_type": "markdown",
   "id": "4eece7cf",
   "metadata": {},
   "source": [
    "# <div style=\"text-align: left\"> Task 1 </div>"
   ]
  },
  {
   "cell_type": "code",
   "execution_count": 2,
   "id": "4597fa90",
   "metadata": {},
   "outputs": [],
   "source": [
    "import numpy as np"
   ]
  },
  {
   "cell_type": "raw",
   "id": "a5035d99",
   "metadata": {},
   "source": [
    "# Create a 1D array of numbers from 0 to 9"
   ]
  },
  {
   "cell_type": "code",
   "execution_count": 3,
   "id": "66384173",
   "metadata": {},
   "outputs": [],
   "source": [
    "array_1 = np.arange(0, 10)"
   ]
  },
  {
   "cell_type": "code",
   "execution_count": 4,
   "id": "183ad006",
   "metadata": {},
   "outputs": [
    {
     "name": "stdout",
     "output_type": "stream",
     "text": [
      "[0 1 2 3 4 5 6 7 8 9]\n"
     ]
    }
   ],
   "source": [
    "print(array_1)"
   ]
  },
  {
   "cell_type": "raw",
   "id": "e733fe61",
   "metadata": {},
   "source": [
    "# Create a 3×3 NumPy array of all Boolean value Trues"
   ]
  },
  {
   "cell_type": "code",
   "execution_count": 5,
   "id": "4b1c2314",
   "metadata": {},
   "outputs": [],
   "source": [
    "array_2 = np.ones(9, dtype=bool).reshape(3, 3)"
   ]
  },
  {
   "cell_type": "code",
   "execution_count": 6,
   "id": "6a81c094",
   "metadata": {},
   "outputs": [
    {
     "name": "stdout",
     "output_type": "stream",
     "text": [
      "[[ True  True  True]\n",
      " [ True  True  True]\n",
      " [ True  True  True]]\n"
     ]
    }
   ],
   "source": [
    "print(array_2)"
   ]
  },
  {
   "cell_type": "raw",
   "id": "d7f2249f",
   "metadata": {},
   "source": [
    "# Extract all odd numbers from array of 1 to 10"
   ]
  },
  {
   "cell_type": "code",
   "execution_count": 7,
   "id": "0d7de4cb",
   "metadata": {},
   "outputs": [],
   "source": [
    "array_3 = np.arange(10)"
   ]
  },
  {
   "cell_type": "code",
   "execution_count": 8,
   "id": "0935ac57",
   "metadata": {},
   "outputs": [
    {
     "name": "stdout",
     "output_type": "stream",
     "text": [
      "[1 3 5 7 9]\n"
     ]
    }
   ],
   "source": [
    "print(array_3[array_3%2==1])"
   ]
  },
  {
   "cell_type": "raw",
   "id": "140961ca",
   "metadata": {},
   "source": [
    "# Replace all odd numbers in an array of 1-10 with the value -1"
   ]
  },
  {
   "cell_type": "code",
   "execution_count": 9,
   "id": "1aaea59e",
   "metadata": {},
   "outputs": [],
   "source": [
    "array_4 = np.arange(10)\n",
    "array_4[array_4%2==1] = -1"
   ]
  },
  {
   "cell_type": "code",
   "execution_count": 10,
   "id": "41a0e18b",
   "metadata": {},
   "outputs": [
    {
     "name": "stdout",
     "output_type": "stream",
     "text": [
      "[ 0 -1  2 -1  4 -1  6 -1  8 -1]\n"
     ]
    }
   ],
   "source": [
    "print(array_4)"
   ]
  },
  {
   "cell_type": "raw",
   "id": "77482635",
   "metadata": {},
   "source": [
    "# Convert a 1D array to a 2D array with 2 rows"
   ]
  },
  {
   "cell_type": "code",
   "execution_count": 11,
   "id": "7ef537dc",
   "metadata": {},
   "outputs": [],
   "source": [
    "array_5 = np.arange(4).reshape(2,2)"
   ]
  },
  {
   "cell_type": "code",
   "execution_count": 12,
   "id": "034b8980",
   "metadata": {},
   "outputs": [
    {
     "name": "stdout",
     "output_type": "stream",
     "text": [
      "[[0 1]\n",
      " [2 3]]\n"
     ]
    }
   ],
   "source": [
    "print(array_5)"
   ]
  },
  {
   "cell_type": "raw",
   "id": "93934112",
   "metadata": {},
   "source": [
    "# Create two arrays a and b, stack these two arrays vertically use the np.dot and np.sum to calculate totals"
   ]
  },
  {
   "cell_type": "code",
   "execution_count": 13,
   "id": "431233a9",
   "metadata": {},
   "outputs": [],
   "source": [
    "a = np.arange(3, 12).reshape(3,3)\n",
    "b = np.arange(6, 15).reshape(3,3)"
   ]
  },
  {
   "cell_type": "code",
   "execution_count": 14,
   "id": "fd56346c",
   "metadata": {},
   "outputs": [],
   "source": [
    "c = np.dot(a, b)\n",
    "sum = np.sum(c)"
   ]
  },
  {
   "cell_type": "code",
   "execution_count": 15,
   "id": "d6e8bfdd",
   "metadata": {},
   "outputs": [
    {
     "name": "stdout",
     "output_type": "stream",
     "text": [
      "1944\n"
     ]
    }
   ],
   "source": [
    "print (sum)"
   ]
  },
  {
   "cell_type": "markdown",
   "id": "7a40fc7a",
   "metadata": {},
   "source": [
    "# <div style=\"text-align: left\"> Extension </div>"
   ]
  },
  {
   "cell_type": "markdown",
   "id": "195756da",
   "metadata": {},
   "source": [
    "# <div style=\"text-align: left\"> Task 1 </div>"
   ]
  },
  {
   "cell_type": "raw",
   "id": "c1a8d87a",
   "metadata": {},
   "source": [
    "# Create the following pattern without hardcoding. Use only NumPy functions\n",
    "\n",
    "# >array([1, 1, 1, 2, 2, 2, 3, 3, 3, 1, 2, 3, 1, 2, 3, 1, 2, 3])"
   ]
  },
  {
   "cell_type": "code",
   "execution_count": 16,
   "id": "c32c17ee",
   "metadata": {},
   "outputs": [],
   "source": [
    "type_1 =[1, 1, 1]\n",
    "type_2 =[2, 2, 2]\n",
    "type_3 =[3, 3, 3]\n",
    "type_123 =[1, 2, 3]\n",
    "type_123_1 =[1, 2, 3]\n",
    "type_123_2 =[1, 2, 3]"
   ]
  },
  {
   "cell_type": "code",
   "execution_count": 17,
   "id": "f5392ddf",
   "metadata": {},
   "outputs": [
    {
     "name": "stdout",
     "output_type": "stream",
     "text": [
      "[1, 1, 1, 2, 2, 2, 3, 3, 3, 1, 2, 3, 1, 2, 3, 1, 2, 3]\n"
     ]
    }
   ],
   "source": [
    "print (type_1 + type_2 + type_3 + type_123 + type_123_1 + type_123_2)"
   ]
  },
  {
   "cell_type": "markdown",
   "id": "2467be9e",
   "metadata": {},
   "source": [
    "# <div style=\"text-align: left\"> Task 2 </div>"
   ]
  },
  {
   "cell_type": "raw",
   "id": "f863703c",
   "metadata": {},
   "source": [
    "# In two arrays a ( 1,2,3,4,5) and b ( 4,5,6,7,8,9)\n",
    "\n",
    "# remove all repeating items present in array b"
   ]
  },
  {
   "cell_type": "code",
   "execution_count": null,
   "id": "2aa73c50",
   "metadata": {},
   "outputs": [],
   "source": [
    "a = np.array([1,2,3,4,5])\n",
    "b = np.array([4,5,6,7,8,9])\n",
    "c = np.newarray1d(a,b)"
   ]
  },
  {
   "cell_type": "code",
   "execution_count": 19,
   "id": "dd4877a4",
   "metadata": {},
   "outputs": [
    {
     "name": "stdout",
     "output_type": "stream",
     "text": [
      "[[114 126 138]\n",
      " [195 216 237]\n",
      " [276 306 336]]\n"
     ]
    }
   ],
   "source": [
    "print(c)"
   ]
  },
  {
   "cell_type": "markdown",
   "id": "13e2d180",
   "metadata": {},
   "source": [
    "# <div style=\"text-align: left\"> Task 3 </div>"
   ]
  },
  {
   "cell_type": "raw",
   "id": "ec6a887e",
   "metadata": {},
   "source": [
    "# Get all items between 3 and 7 from a and b and sum them together"
   ]
  },
  {
   "cell_type": "code",
   "execution_count": 20,
   "id": "5c16404e",
   "metadata": {},
   "outputs": [],
   "source": [
    "a = np.array([1,2,3,4,5])\n",
    "b = np.array([4,5,6,7,8,9])"
   ]
  },
  {
   "cell_type": "code",
   "execution_count": 21,
   "id": "f7867b95",
   "metadata": {},
   "outputs": [
    {
     "name": "stdout",
     "output_type": "stream",
     "text": [
      "[4 5]\n"
     ]
    }
   ],
   "source": [
    "print(a[3:7])"
   ]
  },
  {
   "cell_type": "code",
   "execution_count": 22,
   "id": "cac53a01",
   "metadata": {},
   "outputs": [
    {
     "name": "stdout",
     "output_type": "stream",
     "text": [
      "[7 8 9]\n"
     ]
    }
   ],
   "source": [
    "print(b[3:7])"
   ]
  },
  {
   "cell_type": "code",
   "execution_count": 23,
   "id": "4011d007",
   "metadata": {},
   "outputs": [
    {
     "name": "stdout",
     "output_type": "stream",
     "text": [
      "1944\n"
     ]
    }
   ],
   "source": [
    "print(sum)"
   ]
  }
 ],
 "metadata": {
  "kernelspec": {
   "display_name": "Python 3 (ipykernel)",
   "language": "python",
   "name": "python3"
  },
  "language_info": {
   "codemirror_mode": {
    "name": "ipython",
    "version": 3
   },
   "file_extension": ".py",
   "mimetype": "text/x-python",
   "name": "python",
   "nbconvert_exporter": "python",
   "pygments_lexer": "ipython3",
   "version": "3.9.7"
  }
 },
 "nbformat": 4,
 "nbformat_minor": 5
}
