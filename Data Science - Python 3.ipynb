{
 "cells": [
  {
   "cell_type": "markdown",
   "id": "74c9ec2a",
   "metadata": {},
   "source": [
    "# <h1><center>Data Science - Python 3</center></h1>"
   ]
  },
  {
   "cell_type": "markdown",
   "id": "a42cf8c9",
   "metadata": {},
   "source": [
    "#  <div style=\"text-align: left\"> Task 1 </div>"
   ]
  },
  {
   "cell_type": "raw",
   "id": "7f567ecc",
   "metadata": {},
   "source": [
    "# Write a program that allows you to enter 4 numbers and stores them in a file called “Numbers” 3, 45, 83, 21 \n",
    "\n",
    "# Have a go at ‘w’ ‘r’ ‘a’"
   ]
  },
  {
   "cell_type": "code",
   "execution_count": null,
   "id": "e9884515",
   "metadata": {},
   "outputs": [],
   "source": [
    "numbers_file = input(\"3\", \"45\", \"83\", \"21\")"
   ]
  },
  {
   "cell_type": "raw",
   "id": "31c4b801",
   "metadata": {},
   "source": [
    "# Create a file"
   ]
  },
  {
   "cell_type": "code",
   "execution_count": null,
   "id": "e650a15b",
   "metadata": {},
   "outputs": [],
   "source": [
    "numbers_file = open(\"numbers.text_file\", \"w\")"
   ]
  },
  {
   "cell_type": "code",
   "execution_count": null,
   "id": "f6e865a3",
   "metadata": {},
   "outputs": [],
   "source": [
    "numbers_file.close()"
   ]
  },
  {
   "cell_type": "raw",
   "id": "3310c187",
   "metadata": {},
   "source": [
    "# Reading a file"
   ]
  },
  {
   "cell_type": "code",
   "execution_count": null,
   "id": "33475c7d",
   "metadata": {},
   "outputs": [],
   "source": [
    "with open(\"numbers.txt\", \"r\") as numbers_file:"
   ]
  },
  {
   "cell_type": "code",
   "execution_count": null,
   "id": "b1f13030",
   "metadata": {},
   "outputs": [],
   "source": [
    "    data = numbers_file.read().replace('\\n', ',')"
   ]
  },
  {
   "cell_type": "code",
   "execution_count": null,
   "id": "72f40552",
   "metadata": {},
   "outputs": [],
   "source": [
    "numbers_file.close()"
   ]
  },
  {
   "cell_type": "raw",
   "id": "b860b502",
   "metadata": {},
   "source": [
    "# Appending a file"
   ]
  },
  {
   "cell_type": "code",
   "execution_count": null,
   "id": "abb9ec86",
   "metadata": {},
   "outputs": [],
   "source": [
    "numbers_file = open(\"numbers.txt\", \"a\")"
   ]
  },
  {
   "cell_type": "code",
   "execution_count": null,
   "id": "fdd79cd8",
   "metadata": {},
   "outputs": [],
   "source": [
    "numbers_file.write(\"Where has it gone?\")"
   ]
  },
  {
   "cell_type": "code",
   "execution_count": null,
   "id": "121d9f0f",
   "metadata": {},
   "outputs": [],
   "source": [
    "numbers_file.close()"
   ]
  },
  {
   "cell_type": "markdown",
   "id": "c2ed86e3",
   "metadata": {},
   "source": [
    "# <div style=\"text-align: left\"> Task 2 </div>"
   ]
  },
  {
   "cell_type": "raw",
   "id": "b0c2c2d5",
   "metadata": {},
   "source": [
    "# Write a program to ask a student for their percentage mark and convert this to a grade.\n",
    "\n",
    "# The conversion will be done in a function called mark_grade."
   ]
  },
  {
   "cell_type": "code",
   "execution_count": null,
   "id": "4140b1a5",
   "metadata": {},
   "outputs": [],
   "source": [
    "def mark_grade(percentage):"
   ]
  },
  {
   "cell_type": "code",
   "execution_count": null,
   "id": "d4ac327f",
   "metadata": {},
   "outputs": [],
   "source": [
    "    if percentage >= 90:"
   ]
  },
  {
   "cell_type": "code",
   "execution_count": null,
   "id": "bca51a70",
   "metadata": {},
   "outputs": [],
   "source": [
    "             return \"A*\""
   ]
  },
  {
   "cell_type": "code",
   "execution_count": null,
   "id": "2ba547a2",
   "metadata": {},
   "outputs": [],
   "source": [
    "    elif percentage >= 80 and percentage < 90:"
   ]
  },
  {
   "cell_type": "code",
   "execution_count": null,
   "id": "04e2fb20",
   "metadata": {},
   "outputs": [],
   "source": [
    "             return \"A\""
   ]
  },
  {
   "cell_type": "code",
   "execution_count": null,
   "id": "e650efb2",
   "metadata": {},
   "outputs": [],
   "source": [
    "    elif 70 >= percentage < 80:"
   ]
  },
  {
   "cell_type": "code",
   "execution_count": null,
   "id": "2b3d5e9c",
   "metadata": {},
   "outputs": [],
   "source": [
    "             return \"B\""
   ]
  },
  {
   "cell_type": "code",
   "execution_count": null,
   "id": "4cc76a5d",
   "metadata": {},
   "outputs": [],
   "source": [
    "    elif 60 >= percentage < 70:"
   ]
  },
  {
   "cell_type": "code",
   "execution_count": null,
   "id": "cf1ca994",
   "metadata": {},
   "outputs": [],
   "source": [
    "             return \"C\""
   ]
  },
  {
   "cell_type": "code",
   "execution_count": null,
   "id": "7293408c",
   "metadata": {},
   "outputs": [],
   "source": [
    "    elif 50 >= percentage < 60:"
   ]
  },
  {
   "cell_type": "code",
   "execution_count": null,
   "id": "3c3cf2b4",
   "metadata": {},
   "outputs": [],
   "source": [
    "             return \"D\" "
   ]
  },
  {
   "cell_type": "code",
   "execution_count": null,
   "id": "2388f1eb",
   "metadata": {},
   "outputs": [],
   "source": [
    "    elif 40 >= percentage < 80:"
   ]
  },
  {
   "cell_type": "code",
   "execution_count": null,
   "id": "1afc08a5",
   "metadata": {},
   "outputs": [],
   "source": [
    "             return \"E\""
   ]
  },
  {
   "cell_type": "code",
   "execution_count": null,
   "id": "3e23544f",
   "metadata": {},
   "outputs": [],
   "source": [
    "    else:"
   ]
  },
  {
   "cell_type": "code",
   "execution_count": null,
   "id": "9aa3096a",
   "metadata": {},
   "outputs": [],
   "source": [
    "             return \"F\""
   ]
  },
  {
   "cell_type": "code",
   "execution_count": null,
   "id": "599a25bd",
   "metadata": {},
   "outputs": [],
   "source": [
    " mark = int(input(\"What grade did you achieve as a percentage?))"
   ]
  },
  {
   "cell_type": "code",
   "execution_count": null,
   "id": "64b75dcb",
   "metadata": {},
   "outputs": [],
   "source": [
    " grade = mark_grade(mark)"
   ]
  },
  {
   "cell_type": "markdown",
   "id": "8b1430d2",
   "metadata": {},
   "source": [
    "# <div style=\"text-align: left\">Extension to Task 2</div>"
   ]
  },
  {
   "cell_type": "raw",
   "id": "2a699eb6",
   "metadata": {},
   "source": [
    "# Ask the user for their target grade and print this with their mark\n",
    "\n",
    "# If their target grade > exam grade display a suitable message\n",
    "\n",
    "# If their target grade = exam grade display a suitable message\n",
    "\n",
    "# If their target grade < exam grade display a suitable message"
   ]
  },
  {
   "cell_type": "code",
   "execution_count": null,
   "id": "e46fba87",
   "metadata": {},
   "outputs": [],
   "source": [
    "target = input(\"What grade were you aiming for?\")"
   ]
  },
  {
   "cell_type": "code",
   "execution_count": null,
   "id": "974e5a2d",
   "metadata": {},
   "outputs": [],
   "source": [
    "if target == grade:\n",
    "    print(\"Well done! You achieved your desired grade!\")\n",
    "    print(\"Your grade was\", grade, \"and you were aiming for\", target)"
   ]
  },
  {
   "cell_type": "code",
   "execution_count": null,
   "id": "30c6392e",
   "metadata": {},
   "outputs": [],
   "source": [
    "elif target == \"A*\" and grade == \"A\":\n",
    "      print(\"You need to work harder\")\n",
    "      print(\"Your grade was\", grade, \"and you were aiming for\", target)"
   ]
  },
  {
   "cell_type": "code",
   "execution_count": null,
   "id": "59cd6e41",
   "metadata": {},
   "outputs": [],
   "source": [
    "elif target == \"A\" and grade == \"A*\":\n",
    "      print(\"You got higher than your target grade! Well done!\")\n",
    "      print(\"Your grade was\", grade, \"and you were aiming for\", target)"
   ]
  },
  {
   "cell_type": "code",
   "execution_count": null,
   "id": "85b8b466",
   "metadata": {},
   "outputs": [],
   "source": [
    "elif target < grade:\n",
    "      print(\"You need to work harder\")\n",
    "      print(\"Your grade was\", grade, \"and you were aiming for\", target)"
   ]
  },
  {
   "cell_type": "code",
   "execution_count": null,
   "id": "01ea134a",
   "metadata": {},
   "outputs": [],
   "source": [
    "else:\n",
    "     print(\"You got higher than your target grade! Well done!\")\n",
    "     print(\"Your grade was\", grade, \"and you were aiming for\", target)"
   ]
  }
 ],
 "metadata": {
  "kernelspec": {
   "display_name": "Python 3 (ipykernel)",
   "language": "python",
   "name": "python3"
  },
  "language_info": {
   "codemirror_mode": {
    "name": "ipython",
    "version": 3
   },
   "file_extension": ".py",
   "mimetype": "text/x-python",
   "name": "python",
   "nbconvert_exporter": "python",
   "pygments_lexer": "ipython3",
   "version": "3.9.7"
  }
 },
 "nbformat": 4,
 "nbformat_minor": 5
}
