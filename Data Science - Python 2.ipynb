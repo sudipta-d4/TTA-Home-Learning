{
 "cells": [
  {
   "cell_type": "markdown",
   "id": "a8755edc",
   "metadata": {},
   "source": [
    "# <h1><center>Data Science - Python 2</center></h1>"
   ]
  },
  {
   "cell_type": "markdown",
   "id": "0ce77798",
   "metadata": {},
   "source": [
    "# <div style=\"text-align: left\"> Task 1 </div>"
   ]
  },
  {
   "cell_type": "raw",
   "id": "b698ab39",
   "metadata": {},
   "source": [
    "# Create your own Flow Diagram, a subject of your own choice.\n",
    "\n",
    "# Example: Fast food order and convert it into code."
   ]
  },
  {
   "cell_type": "code",
   "execution_count": null,
   "id": "2e746f8c",
   "metadata": {},
   "outputs": [],
   "source": [
    "See 'Data Science - Python 2 - Task 1 Flowchart' on GitHub"
   ]
  },
  {
   "cell_type": "markdown",
   "id": "8922c5ac",
   "metadata": {},
   "source": [
    "# <div style=\"text-align: left\"> Task 2 </div>"
   ]
  },
  {
   "cell_type": "raw",
   "id": "cf18258f",
   "metadata": {},
   "source": [
    "# As an extension to the motorbike task that costs £2000 and loses 10% of its value every year. \n",
    "\n",
    "# Set up a function that performs the calculation by passing in parameters. \n",
    "\n",
    "# Then using a loop, print the value of the bike every following year until it falls below £100."
   ]
  },
  {
   "cell_type": "code",
   "execution_count": 1,
   "id": "7c2d360b",
   "metadata": {},
   "outputs": [],
   "source": [
    "motorbike_cost = 2000.00"
   ]
  },
  {
   "cell_type": "code",
   "execution_count": 2,
   "id": "ad13a422",
   "metadata": {},
   "outputs": [],
   "source": [
    "cost = motorbike_cost"
   ]
  },
  {
   "cell_type": "code",
   "execution_count": null,
   "id": "d5160e5e",
   "metadata": {},
   "outputs": [],
   "source": [
    "year = int(input(\"what is the year?\"))"
   ]
  },
  {
   "cell_type": "code",
   "execution_count": null,
   "id": "c6d0835e",
   "metadata": {},
   "outputs": [],
   "source": [
    "print(\"yearly depreciation of motorbike value:\")"
   ]
  },
  {
   "cell_type": "code",
   "execution_count": null,
   "id": "f0d6daab",
   "metadata": {},
   "outputs": [],
   "source": [
    "while cost >= 1000.0:"
   ]
  },
  {
   "cell_type": "code",
   "execution_count": null,
   "id": "94456526",
   "metadata": {},
   "outputs": [],
   "source": [
    "    print(\"year \", year, \": \", cost)"
   ]
  },
  {
   "cell_type": "code",
   "execution_count": null,
   "id": "2caa3a3e",
   "metadata": {},
   "outputs": [],
   "source": [
    "year = year + 1"
   ]
  },
  {
   "cell_type": "code",
   "execution_count": null,
   "id": "0c8fb727",
   "metadata": {},
   "outputs": [],
   "source": [
    "cost = motorbike_cost / 10"
   ]
  },
  {
   "cell_type": "code",
   "execution_count": null,
   "id": "941239e9",
   "metadata": {},
   "outputs": [],
   "source": [
    "def calculate_bike_cost():"
   ]
  },
  {
   "cell_type": "code",
   "execution_count": null,
   "id": "840c6dec",
   "metadata": {},
   "outputs": [],
   "source": [
    "  value_every_year = \"current_value\""
   ]
  },
  {
   "cell_type": "code",
   "execution_count": null,
   "id": "486ed482",
   "metadata": {},
   "outputs": [],
   "source": [
    "  loses = \"What is 10% of the original value?\""
   ]
  },
  {
   "cell_type": "code",
   "execution_count": null,
   "id": "431d3331",
   "metadata": {},
   "outputs": [],
   "source": [
    "  yearly = str(\"current_value\") + \"value_every_year\" + \"will increase by\" + \"loses\" + \"every year untill it falls below £1000\""
   ]
  },
  {
   "cell_type": "code",
   "execution_count": null,
   "id": "31276807",
   "metadata": {},
   "outputs": [],
   "source": [
    "  return yearly"
   ]
  },
  {
   "cell_type": "markdown",
   "id": "046eb91c",
   "metadata": {},
   "source": [
    "# <div style=\"text-align: left\"> Task 3 </div>"
   ]
  },
  {
   "cell_type": "raw",
   "id": "c215afcf",
   "metadata": {},
   "source": [
    "# Write a program which will ask for two numbers from a user.\n",
    "\n",
    "# Then offer an option menu to the user giving them a choice of maths operators. \n",
    "\n",
    "# Once the user has selected which operator they wish to use, perform the calculation by using a procedure and passing parameters."
   ]
  },
  {
   "cell_type": "code",
   "execution_count": null,
   "id": "bba49a61",
   "metadata": {},
   "outputs": [],
   "source": [
    "def calculator():"
   ]
  },
  {
   "cell_type": "code",
   "execution_count": null,
   "id": "58d70296",
   "metadata": {},
   "outputs": [],
   "source": [
    "   num1 = int(input(\"What is your first number?\"))"
   ]
  },
  {
   "cell_type": "code",
   "execution_count": null,
   "id": "8a7dac30",
   "metadata": {},
   "outputs": [],
   "source": [
    "   num2 = int(input(\"What is the second number?\"))"
   ]
  },
  {
   "cell_type": "code",
   "execution_count": null,
   "id": "31b2dc22",
   "metadata": {},
   "outputs": [],
   "source": [
    "print(num1 + num2)"
   ]
  },
  {
   "cell_type": "code",
   "execution_count": null,
   "id": "41b08b16",
   "metadata": {},
   "outputs": [],
   "source": [
    "choice = (input(\"Choose an arithmetic operation to perform \\n A) add \\n B) subtract \\n C) divide \\n D) multiply \\n E) to the power of\"))"
   ]
  },
  {
   "cell_type": "code",
   "execution_count": null,
   "id": "b16c8c00",
   "metadata": {},
   "outputs": [],
   "source": [
    "if choice == \"A\":"
   ]
  },
  {
   "cell_type": "code",
   "execution_count": null,
   "id": "3695779c",
   "metadata": {},
   "outputs": [],
   "source": [
    "    print(num1 + num2)"
   ]
  },
  {
   "cell_type": "code",
   "execution_count": null,
   "id": "6ad77235",
   "metadata": {},
   "outputs": [],
   "source": [
    "elif choice == \"B\":"
   ]
  },
  {
   "cell_type": "code",
   "execution_count": null,
   "id": "1e70046c",
   "metadata": {},
   "outputs": [],
   "source": [
    "    print(num1 - num2)"
   ]
  },
  {
   "cell_type": "code",
   "execution_count": null,
   "id": "08785495",
   "metadata": {},
   "outputs": [],
   "source": [
    "elif choice == \"C\":"
   ]
  },
  {
   "cell_type": "code",
   "execution_count": null,
   "id": "b830071e",
   "metadata": {},
   "outputs": [],
   "source": [
    "    print(num1 / num2)"
   ]
  },
  {
   "cell_type": "code",
   "execution_count": null,
   "id": "812ce700",
   "metadata": {},
   "outputs": [],
   "source": [
    "elif choice == \"D\":"
   ]
  },
  {
   "cell_type": "code",
   "execution_count": null,
   "id": "023ac776",
   "metadata": {},
   "outputs": [],
   "source": [
    "    print(num1 * num2)"
   ]
  },
  {
   "cell_type": "code",
   "execution_count": null,
   "id": "26d4e331",
   "metadata": {},
   "outputs": [],
   "source": [
    "elif choice == \"E\":"
   ]
  },
  {
   "cell_type": "code",
   "execution_count": null,
   "id": "dff07c91",
   "metadata": {},
   "outputs": [],
   "source": [
    "    print(num1 ** num2)"
   ]
  },
  {
   "cell_type": "code",
   "execution_count": null,
   "id": "64e217ee",
   "metadata": {},
   "outputs": [],
   "source": [
    "else:"
   ]
  },
  {
   "cell_type": "code",
   "execution_count": null,
   "id": "67133197",
   "metadata": {},
   "outputs": [],
   "source": [
    "    print(\"Enter choice A or B or C or D or E\")"
   ]
  }
 ],
 "metadata": {
  "kernelspec": {
   "display_name": "Python 3 (ipykernel)",
   "language": "python",
   "name": "python3"
  },
  "language_info": {
   "codemirror_mode": {
    "name": "ipython",
    "version": 3
   },
   "file_extension": ".py",
   "mimetype": "text/x-python",
   "name": "python",
   "nbconvert_exporter": "python",
   "pygments_lexer": "ipython3",
   "version": "3.9.7"
  }
 },
 "nbformat": 4,
 "nbformat_minor": 5
}
